{
 "cells": [
  {
   "cell_type": "code",
   "execution_count": 1,
   "metadata": {},
   "outputs": [],
   "source": [
    "import re\n",
    "file = open('#metoo.csv' , 'r')\n",
    "lc = [i for i in file]\n",
    "file.close()\n",
    "fileclean1 = [i.strip().split('\\n') for i in lc]\n",
    " \n",
    "#remove ['']\n",
    "fileclean2 = [fileclean1[i] for i in range(len(fileclean1)) if i%2==0]\n",
    "fileclean3 = [[fileclean2[i][0].replace(\"\\\\xe2\",\"\").replace(\"\\\\x80\",\"\").replace(\"\\\\x99\",\"\").replace(\"\\\\xf0\",\"\").replace(\"\\\\x9f\",\"\")] for i in range(len(fileclean2))]\n",
    " \n",
    "# replace @ and # and <\n",
    "fileclean4 = [[fileclean3[i][0].replace(\"@\",\"\").replace(\"#\",\"\").replace(\"<\",\"\")] for i in range(len(fileclean3))]\n",
    " \n",
    " \n",
    "# ignore http and Retweets\n",
    "fileclean5 = [[fileclean4[i][0]] for i in range(len(fileclean4)) if fileclean4[i][0].find(\"http\") == -1]\n",
    "fileclean6 = [[fileclean5[i][0]] for i in range(len(fileclean5)) if fileclean5[i][0].find(\"RT\") == -1]\n",
    " \n",
    " \n",
    "# remove duplicates\n",
    " \n",
    "fileclean7 = [fileclean6[i] for i in range(len(fileclean6)) if i == 0 or fileclean6[i] != fileclean6[i-1]]\n",
    "#fileclean7 = [ list(x) for x in set(tuple(x) for x in fileclean6)]\n",
    " \n",
    "#further cleaning\n",
    " \n",
    "fileclean8 = [[fileclean7[i][0].replace('b\"',\"\").replace(\"b'\",\"\").replace(\"\\\\\",\"\").replace(\"'\",\"\").replace('\"',\"\")] for i in range(len(fileclean7))]\n",
    " \n",
    "#\n",
    "fileclean9 = [[re.sub('[!@#$:).;,?&]', '', fileclean8[i][0].lower())] for i in range(len(fileclean8))]\n",
    "fileclean10 = [[ re.sub(' ', ' ', fileclean9[i][0])] for i in range(len(fileclean9))]\n",
    " \n",
    " \n",
    " \n",
    "filewrite= open('metoo_cleaned.csv','w')\n",
    "filewrite.writelines('text'+'\\n')\n",
    "[filewrite.writelines(str(fileclean10[i])[2:-2]+'\\n') for i in range(len(fileclean10))]\n",
    "filewrite.close()"
   ]
  }
 ],
 "metadata": {
  "kernelspec": {
   "display_name": "Python 3",
   "language": "python",
   "name": "python3"
  },
  "language_info": {
   "codemirror_mode": {
    "name": "ipython",
    "version": 3
   },
   "file_extension": ".py",
   "mimetype": "text/x-python",
   "name": "python",
   "nbconvert_exporter": "python",
   "pygments_lexer": "ipython3",
   "version": "3.6.0"
  }
 },
 "nbformat": 4,
 "nbformat_minor": 2
}
