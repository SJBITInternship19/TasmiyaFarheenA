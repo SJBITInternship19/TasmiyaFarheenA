{
 "cells": [
  {
   "cell_type": "code",
   "execution_count": 1,
   "metadata": {},
   "outputs": [
    {
     "ename": "FileNotFoundError",
     "evalue": "[Errno 2] No such file or directory: 'iPhoneX.csv'",
     "output_type": "error",
     "traceback": [
      "\u001b[1;31m---------------------------------------------------------------------------\u001b[0m",
      "\u001b[1;31mFileNotFoundError\u001b[0m                         Traceback (most recent call last)",
      "\u001b[1;32m<ipython-input-1-d61416a12a68>\u001b[0m in \u001b[0;36m<module>\u001b[1;34m\u001b[0m\n\u001b[0;32m      1\u001b[0m \u001b[1;32mimport\u001b[0m \u001b[0mre\u001b[0m\u001b[1;33m\u001b[0m\u001b[0m\n\u001b[1;32m----> 2\u001b[1;33m \u001b[0mfile\u001b[0m \u001b[1;33m=\u001b[0m \u001b[0mopen\u001b[0m\u001b[1;33m(\u001b[0m\u001b[1;34m'iPhoneX.csv'\u001b[0m \u001b[1;33m,\u001b[0m \u001b[1;34m'r'\u001b[0m\u001b[1;33m)\u001b[0m\u001b[1;33m\u001b[0m\u001b[0m\n\u001b[0m\u001b[0;32m      3\u001b[0m \u001b[0mlc\u001b[0m \u001b[1;33m=\u001b[0m \u001b[1;33m[\u001b[0m\u001b[0mi\u001b[0m \u001b[1;32mfor\u001b[0m \u001b[0mi\u001b[0m \u001b[1;32min\u001b[0m \u001b[0mfile\u001b[0m\u001b[1;33m]\u001b[0m\u001b[1;33m\u001b[0m\u001b[0m\n\u001b[0;32m      4\u001b[0m \u001b[0mfile\u001b[0m\u001b[1;33m.\u001b[0m\u001b[0mclose\u001b[0m\u001b[1;33m(\u001b[0m\u001b[1;33m)\u001b[0m\u001b[1;33m\u001b[0m\u001b[0m\n\u001b[0;32m      5\u001b[0m \u001b[0mfileclean1\u001b[0m \u001b[1;33m=\u001b[0m \u001b[1;33m[\u001b[0m\u001b[0mi\u001b[0m\u001b[1;33m.\u001b[0m\u001b[0mstrip\u001b[0m\u001b[1;33m(\u001b[0m\u001b[1;33m)\u001b[0m\u001b[1;33m.\u001b[0m\u001b[0msplit\u001b[0m\u001b[1;33m(\u001b[0m\u001b[1;34m'\\n'\u001b[0m\u001b[1;33m)\u001b[0m \u001b[1;32mfor\u001b[0m \u001b[0mi\u001b[0m \u001b[1;32min\u001b[0m \u001b[0mlc\u001b[0m\u001b[1;33m]\u001b[0m\u001b[1;33m\u001b[0m\u001b[0m\n",
      "\u001b[1;31mFileNotFoundError\u001b[0m: [Errno 2] No such file or directory: 'iPhoneX.csv'"
     ]
    }
   ],
   "source": [
    "import re\n",
    "file = open('iPhoneX.csv' , 'r')\n",
    "lc = [i for i in file]\n",
    "file.close()\n",
    "fileclean1 = [i.strip().split('\\n') for i in lc]\n",
    " \n",
    "#remove ['']\n",
    "fileclean2 = [fileclean1[i] for i in range(len(fileclean1)) if i%2==0]\n",
    "fileclean3 = [[fileclean2[i][0].replace(\"\\\\xe2\",\"\").replace(\"\\\\x80\",\"\").replace(\"\\\\x99\",\"\").replace(\"\\\\xf0\",\"\").replace(\"\\\\x9f\",\"\")] for i in range(len(fileclean2))]\n",
    " \n",
    "# replace @ and # and <\n",
    "fileclean4 = [[fileclean3[i][0].replace(\"@\",\"\").replace(\"#\",\"\").replace(\"<\",\"\")] for i in range(len(fileclean3))]\n",
    " \n",
    " \n",
    "# ignore http and Retweets\n",
    "fileclean5 = [[fileclean4[i][0]] for i in range(len(fileclean4)) if fileclean4[i][0].find(\"http\") == -1]\n",
    "fileclean6 = [[fileclean5[i][0]] for i in range(len(fileclean5)) if fileclean5[i][0].find(\"RT\") == -1]\n",
    " \n",
    " \n",
    "# remove duplicates\n",
    " \n",
    "fileclean7 = [fileclean6[i] for i in range(len(fileclean6)) if i == 0 or fileclean6[i] != fileclean6[i-1]]\n",
    "#fileclean7 = [ list(x) for x in set(tuple(x) for x in fileclean6)]\n",
    " \n",
    "#further cleaning\n",
    " \n",
    "fileclean8 = [[fileclean7[i][0].replace('b\"',\"\").replace(\"b'\",\"\").replace(\"\\\\\",\"\").replace(\"'\",\"\").replace('\"',\"\")] for i in range(len(fileclean7))]\n",
    " \n",
    "import re\n",
    "fileclean9 = [[re.sub('[!@#$:).;,?&]', '', fileclean8[i][0].lower())] for i in range(len(fileclean8))]\n",
    "fileclean10 = [[ re.sub(' ', ' ', fileclean9[i][0])] for i in range(len(fileclean9))]\n",
    " \n",
    "filewrite= open('cleanedfileiPhone.csv','w')\n",
    "filewrite.writelines('text'+'\\n')\n",
    "[filewrite.writelines(str(fileclean10[i])[2:-2]+'\\n') for i in range(len(fileclean10))]\n",
    "filewrite.close()"
   ]
  }
 ],
 "metadata": {
  "kernelspec": {
   "display_name": "Python 3",
   "language": "python",
   "name": "python3"
  },
  "language_info": {
   "codemirror_mode": {
    "name": "ipython",
    "version": 3
   },
   "file_extension": ".py",
   "mimetype": "text/x-python",
   "name": "python",
   "nbconvert_exporter": "python",
   "pygments_lexer": "ipython3",
   "version": "3.6.0"
  }
 },
 "nbformat": 4,
 "nbformat_minor": 2
}
