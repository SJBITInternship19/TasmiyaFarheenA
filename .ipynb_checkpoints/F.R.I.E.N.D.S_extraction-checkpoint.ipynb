{
 "cells": [
  {
   "cell_type": "code",
   "execution_count": null,
   "metadata": {},
   "outputs": [],
   "source": [
    "import os\n",
    "try:\n",
    "    os.system(\"pip install -r requirements.txt\")\n",
    "    os.system(\"cls\")\n",
    "except: pass\n",
    " \n",
    "import tweepy\n",
    "import csv\n",
    " \n",
    "access_token = \"574351903-SirnPuk7fIlK3jv291U0rEHKkiXuOchA6RjgI4YK\"\n",
    "access_token_secret = \"xN1dnpz6SvKd3hIUy0MlR09rAIkLqbl7QiQhH09xxE9sI\"\n",
    "consumer_key = \"xydSNCHSXfxQy9OjrkMxOl2NL\"\n",
    "consumer_secret = \"SQJirubS0PZl49zMbWnQgqHbyuRUIi3L9oWFWB8ncl05RoxcrF\"\n",
    " \n",
    "auth = tweepy.OAuthHandler(consumer_key, consumer_secret)\n",
    "auth.set_access_token(access_token, access_token_secret)\n",
    "api = tweepy.API(auth,wait_on_rate_limit=True)\n",
    " \n",
    "csvFile = open('FRIENDS.csv', 'a')\n",
    " \n",
    "csvWriter = csv.writer(csvFile)\n",
    "try:\n",
    "    for tweet in tweepy.Cursor(api.search,q=\"F.R.I.E.N.D.S\",count=100,lang=\"en\",since=\"2017-04-03\").items():\n",
    "        print (tweet.text)\n",
    "        csvWriter.writerow([tweet.text.encode('utf-8')])\n",
    "except: pass\n",
    " \n",
    "os.system(\"pip freeze > requirements.txt\")"
   ]
  }
 ],
 "metadata": {
  "kernelspec": {
   "display_name": "Python 3",
   "language": "python",
   "name": "python3"
  },
  "language_info": {
   "codemirror_mode": {
    "name": "ipython",
    "version": 3
   },
   "file_extension": ".py",
   "mimetype": "text/x-python",
   "name": "python",
   "nbconvert_exporter": "python",
   "pygments_lexer": "ipython3",
   "version": "3.6.0"
  }
 },
 "nbformat": 4,
 "nbformat_minor": 2
}
